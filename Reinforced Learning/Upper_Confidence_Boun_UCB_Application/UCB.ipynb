{
 "cells": [
  {
   "cell_type": "markdown",
   "id": "e9f80444-e958-46c1-ac13-21b5d0a3f6e5",
   "metadata": {
    "editable": true,
    "slideshow": {
     "slide_type": ""
    },
    "tags": []
   },
   "source": [
    "## Libraries"
   ]
  },
  {
   "cell_type": "markdown",
   "id": "4780ff96-04f9-4411-8a6e-ec24f60053f3",
   "metadata": {
    "editable": true,
    "slideshow": {
     "slide_type": ""
    },
    "tags": []
   },
   "source": [
    "#### The first part of the code performs ad optimization by random selection. The second part of the code uses the Upper Confidence Interval algorithm to make smarter choices and try to maximize the click-through rate of ads. It shows the distribution and total reward of ads selected at the end of both algorithms."
   ]
  },
  {
   "cell_type": "markdown",
   "id": "c11b31b7-c739-4716-89ae-2cd44c5f579f",
   "metadata": {},
   "source": [
    "#### Required libraries are being loaded."
   ]
  },
  {
   "cell_type": "code",
   "execution_count": 7,
   "id": "cf18fb21-cc77-4473-8857-0e058bb59cf2",
   "metadata": {},
   "outputs": [],
   "source": [
    "import numpy as np\n",
    "import matplotlib.pyplot as plt\n",
    "import pandas as pd\n",
    "import math \n",
    "import random"
   ]
  },
  {
   "cell_type": "markdown",
   "id": "e9a3e8a6-f234-4b35-b148-d05c32752be0",
   "metadata": {},
   "source": [
    "## Reading data"
   ]
  },
  {
   "cell_type": "code",
   "execution_count": 11,
   "id": "867b25ca-a594-45ab-ba65-77c7524d906d",
   "metadata": {},
   "outputs": [
    {
     "name": "stdout",
     "output_type": "stream",
     "text": [
      "      Ad 1  Ad 2  Ad 3  Ad 4  Ad 5  Ad 6  Ad 7  Ad 8  Ad 9  Ad 10\n",
      "0        1     0     0     0     1     0     0     0     1      0\n",
      "1        0     0     0     0     0     0     0     0     1      0\n",
      "2        0     0     0     0     0     0     0     0     0      0\n",
      "3        0     1     0     0     0     0     0     1     0      0\n",
      "4        0     0     0     0     0     0     0     0     0      0\n",
      "...    ...   ...   ...   ...   ...   ...   ...   ...   ...    ...\n",
      "9995     0     0     1     0     0     0     0     1     0      0\n",
      "9996     0     0     0     0     0     0     0     0     0      0\n",
      "9997     0     0     0     0     0     0     0     0     0      0\n",
      "9998     1     0     0     0     0     0     0     1     0      0\n",
      "9999     0     1     0     0     0     0     0     0     0      0\n",
      "\n",
      "[10000 rows x 10 columns]\n"
     ]
    }
   ],
   "source": [
    "data = pd.DataFrame(pd.read_csv(\"C:\\\\Users\\\\Arif Furkan\\\\OneDrive\\\\Belgeler\\\\Python_kullanirken\\\\Ads_CTR_Optimisation.csv\"))\n",
    "print(data)"
   ]
  },
  {
   "cell_type": "markdown",
   "id": "d2e17aa2-ede8-47a1-88e4-97977bca7c9a",
   "metadata": {
    "editable": true,
    "slideshow": {
     "slide_type": ""
    },
    "tags": []
   },
   "source": [
    "## Random Selection"
   ]
  },
  {
   "cell_type": "markdown",
   "id": "55a46bb4-6279-46f7-802a-a6f5f7edf9c2",
   "metadata": {
    "editable": true,
    "slideshow": {
     "slide_type": ""
    },
    "tags": []
   },
   "source": [
    "#### In the loop, a random ad is selected with the random.randrange(d) function and this ad is added to the chosen list. The reward (click) of the selected ad is added to the total variable. Finally, the total reward and histogram are shown."
   ]
  },
  {
   "cell_type": "code",
   "execution_count": 26,
   "id": "ec4b24b2-0683-4920-a254-0df90006b2f1",
   "metadata": {
    "editable": true,
    "slideshow": {
     "slide_type": ""
    },
    "tags": []
   },
   "outputs": [
    {
     "name": "stdout",
     "output_type": "stream",
     "text": [
      "Total Award:\n",
      "1249\n"
     ]
    },
    {
     "data": {
      "image/png": "[encoded data removed]",
      "text/plain": [
       "<Figure size 640x480 with 1 Axes>"
      ]
     },
     "metadata": {},
     "output_type": "display_data"
    }
   ],
   "source": [
    "N = 10000\n",
    "d = 10\n",
    "total = 0\n",
    "chosen = []\n",
    "for n in range(0,N):\n",
    "    ad = random.randrange(d)\n",
    "    chosen.append(ad)\n",
    "    award = data.values[n,ad]\n",
    "    total = total + award\n",
    "print('Total Award:') \n",
    "print(total)\n",
    "\n",
    "plt.hist(chosen)\n",
    "plt.show()"
   ]
  },
  {
   "cell_type": "markdown",
   "id": "1fd8b421-5fc5-4649-bf9e-a7904c258ff0",
   "metadata": {
    "editable": true,
    "slideshow": {
     "slide_type": ""
    },
    "tags": []
   },
   "source": [
    "## UCB"
   ]
  },
  {
   "cell_type": "markdown",
   "id": "5a8e1449-7c28-4add-be5d-3e20840a86df",
   "metadata": {
    "editable": true,
    "slideshow": {
     "slide_type": ""
    },
    "tags": []
   },
   "source": [
    "#### At first, each ad is assigned ucb = N*10 until it is selected at least once. The ad with the maximum UCB value is selected and added to the chosen list. The number of clicks and rewards for the selected ad are updated. Finally, the total reward and histogram are shown."
   ]
  },
  {
   "cell_type": "code",
   "execution_count": 35,
   "id": "17f24426-99ca-4f11-83d6-e8137375d9d7",
   "metadata": {
    "editable": true,
    "slideshow": {
     "slide_type": ""
    },
    "tags": []
   },
   "outputs": [
    {
     "name": "stdout",
     "output_type": "stream",
     "text": [
      "Total Award:\n",
      "2231\n"
     ]
    }
   ],
   "source": [
    "N=10000\n",
    "d=10\n",
    "awards = [0] * d\n",
    "clicks=[0] * d\n",
    "total = 0 \n",
    "chosen = []\n",
    "for n in range(1,N):\n",
    "    ad = 0 \n",
    "    max_ucb = 0\n",
    "    for i in range(0,d):\n",
    "        if(clicks[i] > 0):\n",
    "            ortalama = awards[i] / clicks[i]\n",
    "            delta = math.sqrt(3/2* math.log(n)/clicks[i])\n",
    "            ucb = ortalama + delta\n",
    "        else:\n",
    "            ucb = N*10\n",
    "        if max_ucb < ucb: \n",
    "            max_ucb = ucb\n",
    "            ad = i          \n",
    "    chosen.append(ad)\n",
    "    clicks[ad] = clicks[ad]+ 1\n",
    "    award = data.values[n,ad] \n",
    "    awards[ad] = awards[ad]+ award\n",
    "    total = total + award\n",
    "print('Total Award:')   \n",
    "print(total)"
   ]
  },
  {
   "cell_type": "markdown",
   "id": "2467a47a-9666-4c97-a727-d44a785e31c1",
   "metadata": {
    "editable": true,
    "slideshow": {
     "slide_type": ""
    },
    "tags": []
   },
   "source": [
    "## UCB-2"
   ]
  },
  {
   "cell_type": "code",
   "execution_count": 42,
   "id": "024ae68b-df53-47e8-8afc-642c047a3491",
   "metadata": {
    "editable": true,
    "slideshow": {
     "slide_type": ""
    },
    "tags": []
   },
   "outputs": [
    {
     "name": "stdout",
     "output_type": "stream",
     "text": [
      "Total Award:\n",
      "2231\n"
     ]
    },
    {
     "data": {
      "image/png": "[encoded data removed]",
      "text/plain": [
       "<Figure size 640x480 with 1 Axes>"
      ]
     },
     "metadata": {},
     "output_type": "display_data"
    }
   ],
   "source": [
    "import math\n",
    "N = 10000 \n",
    "d = 10  \n",
    "#Ri(n)\n",
    "awards = [0] * d \n",
    "#Ni(n)\n",
    "clicks = [0] * d \n",
    "total = 0 \n",
    "chosen = []\n",
    "for n in range(1,N):\n",
    "    ad = 0 \n",
    "    max_ucb = 0\n",
    "    for i in range(0,d):\n",
    "        if(clicks[i] > 0):\n",
    "            ortalama = awards[i] / clicks[i]\n",
    "            delta = math.sqrt(3/2* math.log(n)/clicks[i])\n",
    "            ucb = ortalama + delta\n",
    "        else:\n",
    "            ucb = N*10\n",
    "        if max_ucb < ucb: \n",
    "            max_ucb = ucb\n",
    "            ad = i          \n",
    "    chosen.append(ad)\n",
    "    clicks[ad] = clicks[ad]+ 1\n",
    "    award = data.values[n,ad] \n",
    "    awards[ad] = awards[ad]+ award\n",
    "    total = total + award\n",
    "print('Total Award:')   \n",
    "print(total)\n",
    "\n",
    "plt.hist(chosen)\n",
    "plt.show()"
   ]
  },
  {
   "cell_type": "markdown",
   "id": "a722bf2e-76ff-4001-b4c7-07aa212c009b",
   "metadata": {
    "editable": true,
    "slideshow": {
     "slide_type": ""
    },
    "tags": []
   },
   "source": [
    "## General Operation of the Code"
   ]
  }
 ],
 "metadata": {
  "kernelspec": {
   "display_name": "Python 3 (ipykernel)",
   "language": "python",
   "name": "python3"
  },
  "language_info": {
   "codemirror_mode": {
    "name": "ipython",
    "version": 3
   },
   "file_extension": ".py",
   "mimetype": "text/x-python",
   "name": "python",
   "nbconvert_exporter": "python",
   "pygments_lexer": "ipython3",
   "version": "3.9.18"
  }
 },
 "nbformat": 4,
 "nbformat_minor": 5
}
