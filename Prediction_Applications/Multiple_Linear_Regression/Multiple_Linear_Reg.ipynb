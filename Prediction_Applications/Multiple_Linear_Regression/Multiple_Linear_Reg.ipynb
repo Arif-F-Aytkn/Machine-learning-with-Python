{
 "cells": [
  {
   "cell_type": "markdown",
   "id": "ee914791-0936-4240-aa09-dbc16f8c50fc",
   "metadata": {},
   "source": [
    "# Multiple Linear Regression "
   ]
  },
  {
   "cell_type": "markdown",
   "id": "c121242b-7ade-4f36-bb15-d65fcb1007a4",
   "metadata": {},
   "source": [
    "##### This Python code performs statistical model building on a dataset by coding categorical data, creating data frames, splitting the dataset into training and test sets, scaling, training the regression model and making predictions. Firstly, country and gender data are converted into numerical data using LabelEncoder and OneHotEncoder. The data are transferred to pandas DataFrames and merged. The data divided into training and test sets are trained and predicted with the LinearRegression model. The height column is separated as a separate variable and re-split into training and test sets with the remaining features. The regression model is trained again and predictions are made. Finally, statistical models are created with the OLS (Ordinary Least Squares) method using the statsmodels library and the model is updated by removing the explanatory variables of the model one by one and the summary results are printed."
   ]
  },
  {
   "cell_type": "code",
   "execution_count": 1,
   "id": "7055347b-b4b8-4b2a-a8e2-a852c4a7e3ab",
   "metadata": {},
   "outputs": [
    {
     "name": "stdout",
     "output_type": "stream",
     "text": [
      "   ulke  boy  kilo  yas cinsiyet\n",
      "0    tr  130    30   10        e\n",
      "1    tr  125    36   11        e\n",
      "2    tr  135    34   10        k\n",
      "3    tr  133    30    9        k\n",
      "4    tr  129    38   12        e\n",
      "5    tr  180    90   30        e\n",
      "6    tr  190    80   25        e\n",
      "7    tr  175    90   35        e\n",
      "8    tr  177    60   22        k\n",
      "9    us  185   105   33        e\n",
      "10   us  165    55   27        k\n",
      "11   us  155    50   44        k\n",
      "12   us  160    58   39        k\n",
      "13   us  162    59   41        k\n",
      "14   us  167    62   55        k\n",
      "15   fr  174    70   47        e\n",
      "16   fr  193    90   23        e\n",
      "17   fr  187    80   27        e\n",
      "18   fr  183    88   28        e\n",
      "19   fr  159    40   29        k\n",
      "20   fr  164    66   32        k\n",
      "21   fr  166    56   42        k\n"
     ]
    }
   ],
   "source": [
    "import numpy as np\n",
    "import matplotlib.pyplot as plt\n",
    "import pandas as pd\n",
    "import sklearn as sk\n",
    "\n",
    "data = pd.DataFrame(pd.read_csv(\"C:\\\\Users\\\\Arif Furkan\\\\OneDrive\\\\Belgeler\\\\Python_kullanirken\\\\veriler.csv\"))\n",
    "print(data)"
   ]
  },
  {
   "cell_type": "markdown",
   "id": "5b18c9f2-32c6-4b47-bac9-9af454327d7f",
   "metadata": {},
   "source": [
    "## Encoding Categorical Data for Country"
   ]
  },
  {
   "cell_type": "code",
   "execution_count": 2,
   "id": "b53f97fa-fb05-4b69-a82e-ef72e04cb7e7",
   "metadata": {},
   "outputs": [],
   "source": [
    "country = data.iloc[:, 0:1].values\n",
    "from sklearn import preprocessing\n",
    "le = preprocessing.LabelEncoder()\n",
    "country[:, 0] = le.fit_transform(data.iloc[:, 0])\n",
    "ohe = preprocessing.OneHotEncoder()\n",
    "country = ohe.fit_transform(country).toarray()"
   ]
  },
  {
   "cell_type": "markdown",
   "id": "44ab85e7-4af6-40eb-bd5b-d9af0d3bb66b",
   "metadata": {},
   "source": [
    "## Encoding Categorical Data for Gender"
   ]
  },
  {
   "cell_type": "code",
   "execution_count": 3,
   "id": "0b2d7a0b-5a4b-4f56-a765-ec90dd85edb7",
   "metadata": {},
   "outputs": [],
   "source": [
    "from sklearn import preprocessing\n",
    "gender = data.iloc[:, -1]\n",
    "le = preprocessing.LabelEncoder()\n",
    "data.iloc[:, -1] = le.fit_transform(gender)"
   ]
  },
  {
   "cell_type": "markdown",
   "id": "4b9190a9-f205-47ab-b0f4-c9c749682750",
   "metadata": {},
   "source": [
    "## Creating DataFrames"
   ]
  },
  {
   "cell_type": "code",
   "execution_count": 4,
   "id": "35cc4c7d-6fe4-4dd3-b680-fc906cd6977b",
   "metadata": {},
   "outputs": [
    {
     "name": "stdout",
     "output_type": "stream",
     "text": [
      "[0, 1, 2, 3, 4, 5, 6, 7, 8, 9, 10, 11, 12, 13, 14, 15, 16, 17, 18, 19, 20, 21]\n",
      "     fr   tr   us  height  weight  age\n",
      "0   0.0  1.0  0.0     130      30   10\n",
      "1   0.0  1.0  0.0     125      36   11\n",
      "2   0.0  1.0  0.0     135      34   10\n",
      "3   0.0  1.0  0.0     133      30    9\n",
      "4   0.0  1.0  0.0     129      38   12\n",
      "5   0.0  1.0  0.0     180      90   30\n",
      "6   0.0  1.0  0.0     190      80   25\n",
      "7   0.0  1.0  0.0     175      90   35\n",
      "8   0.0  1.0  0.0     177      60   22\n",
      "9   0.0  0.0  1.0     185     105   33\n",
      "10  0.0  0.0  1.0     165      55   27\n",
      "11  0.0  0.0  1.0     155      50   44\n",
      "12  0.0  0.0  1.0     160      58   39\n",
      "13  0.0  0.0  1.0     162      59   41\n",
      "14  0.0  0.0  1.0     167      62   55\n",
      "15  1.0  0.0  0.0     174      70   47\n",
      "16  1.0  0.0  0.0     193      90   23\n",
      "17  1.0  0.0  0.0     187      80   27\n",
      "18  1.0  0.0  0.0     183      88   28\n",
      "19  1.0  0.0  0.0     159      40   29\n",
      "20  1.0  0.0  0.0     164      66   32\n",
      "21  1.0  0.0  0.0     166      56   42\n",
      "     fr   tr   us  height  weight  age gender\n",
      "0   0.0  1.0  0.0     130      30   10      0\n",
      "1   0.0  1.0  0.0     125      36   11      0\n",
      "2   0.0  1.0  0.0     135      34   10      1\n",
      "3   0.0  1.0  0.0     133      30    9      1\n",
      "4   0.0  1.0  0.0     129      38   12      0\n",
      "5   0.0  1.0  0.0     180      90   30      0\n",
      "6   0.0  1.0  0.0     190      80   25      0\n",
      "7   0.0  1.0  0.0     175      90   35      0\n",
      "8   0.0  1.0  0.0     177      60   22      1\n",
      "9   0.0  0.0  1.0     185     105   33      0\n",
      "10  0.0  0.0  1.0     165      55   27      1\n",
      "11  0.0  0.0  1.0     155      50   44      1\n",
      "12  0.0  0.0  1.0     160      58   39      1\n",
      "13  0.0  0.0  1.0     162      59   41      1\n",
      "14  0.0  0.0  1.0     167      62   55      1\n",
      "15  1.0  0.0  0.0     174      70   47      0\n",
      "16  1.0  0.0  0.0     193      90   23      0\n",
      "17  1.0  0.0  0.0     187      80   27      0\n",
      "18  1.0  0.0  0.0     183      88   28      0\n",
      "19  1.0  0.0  0.0     159      40   29      1\n",
      "20  1.0  0.0  0.0     164      66   32      1\n",
      "21  1.0  0.0  0.0     166      56   42      1\n"
     ]
    }
   ],
   "source": [
    "print(list(range(22)))\n",
    "result = pd.DataFrame(data=country, index=range(22), columns=['fr', 'tr', 'us'])\n",
    "age = data.iloc[:, 1:4].values \n",
    "result2 = pd.DataFrame(data=age, index=range(22), columns=['height', 'weight', 'age'])\n",
    "gender = data.iloc[:, -1].values\n",
    "result3 = pd.DataFrame(data=gender, index=range(22), columns=['gender']) \n",
    "\n",
    "s = pd.concat([result, result2], axis=1) \n",
    "print(s)\n",
    "s2 = pd.concat([s, result3], axis=1)\n",
    "print(s2)"
   ]
  },
  {
   "cell_type": "markdown",
   "id": "83c07f12-0587-43e2-b7c4-e43c1057b96c",
   "metadata": {},
   "source": [
    "## Splitting Data into Training and Test Sets"
   ]
  },
  {
   "cell_type": "code",
   "execution_count": 5,
   "id": "659178b1-8032-44d5-a5d5-74c5cd05b0ec",
   "metadata": {},
   "outputs": [],
   "source": [
    "from sklearn.model_selection import train_test_split\n",
    "x_train, x_test, y_train, y_test = train_test_split(s, result3, test_size=0.33, random_state=0)"
   ]
  },
  {
   "cell_type": "markdown",
   "id": "1e7265d2-5f17-42f4-8e90-ea4eb9672151",
   "metadata": {},
   "source": [
    "## Feature Scaling"
   ]
  },
  {
   "cell_type": "code",
   "execution_count": 6,
   "id": "92f2d440-a421-4b1c-b3db-b47c798d7d59",
   "metadata": {},
   "outputs": [],
   "source": [
    "from sklearn.linear_model import LinearRegression\n",
    "regressor = LinearRegression()\n",
    "regressor.fit(x_train, y_train)\n",
    "y_pred = regressor.predict(x_test)"
   ]
  },
  {
   "cell_type": "markdown",
   "id": "d542f857-099b-447e-87c5-8d5f4baefd28",
   "metadata": {},
   "source": [
    "## Separating the Height Column"
   ]
  },
  {
   "cell_type": "code",
   "execution_count": 7,
   "id": "f1f2c879-65fb-4d22-8539-5932fbf5efe2",
   "metadata": {},
   "outputs": [
    {
     "name": "stdout",
     "output_type": "stream",
     "text": [
      "[[130]\n",
      " [125]\n",
      " [135]\n",
      " [133]\n",
      " [129]\n",
      " [180]\n",
      " [190]\n",
      " [175]\n",
      " [177]\n",
      " [185]\n",
      " [165]\n",
      " [155]\n",
      " [160]\n",
      " [162]\n",
      " [167]\n",
      " [174]\n",
      " [193]\n",
      " [187]\n",
      " [183]\n",
      " [159]\n",
      " [164]\n",
      " [166]]\n"
     ]
    }
   ],
   "source": [
    "height = s2.iloc[:, 3:4].values\n",
    "print(height)"
   ]
  },
  {
   "cell_type": "markdown",
   "id": "8b0af2a5-8cad-433a-8f74-18cc49eccb6d",
   "metadata": {},
   "source": [
    "## Separating Features and Splitting Data"
   ]
  },
  {
   "cell_type": "code",
   "execution_count": 9,
   "id": "04fd80c2-3554-4dcd-a057-fc5d5e8bfd99",
   "metadata": {},
   "outputs": [],
   "source": [
    "left = s2.iloc[:, :3]\n",
    "right = s2.iloc[:, 4:]\n",
    "data = pd.concat([left, right], axis=1)\n",
    "x_train, x_test, y_train, y_test = train_test_split(data, height, test_size=0.33, random_state=0)"
   ]
  },
  {
   "cell_type": "markdown",
   "id": "9ebfe591-050d-49e2-9ccb-18b50f0ba141",
   "metadata": {},
   "source": [
    "## Training and Prediction with Regression Model"
   ]
  },
  {
   "cell_type": "code",
   "execution_count": 10,
   "id": "c6711c2f-ae56-4b36-b2ea-30a2e75a7fe8",
   "metadata": {},
   "outputs": [],
   "source": [
    "r2 = LinearRegression()\n",
    "r2.fit(x_train, y_train)\n",
    "y_pred = r2.predict(x_test)"
   ]
  },
  {
   "cell_type": "markdown",
   "id": "71b97c01-cfa6-4ad6-97b7-15b55c1cbc73",
   "metadata": {},
   "source": [
    "## Creating Statistical Model"
   ]
  },
  {
   "cell_type": "markdown",
   "id": "161ff126-e33b-417b-a08e-d3be1e9e98e5",
   "metadata": {},
   "source": [
    "### Model with All Features"
   ]
  },
  {
   "cell_type": "code",
   "execution_count": 11,
   "id": "7e8f4f50-24f0-40b6-a620-5e0b100355f3",
   "metadata": {},
   "outputs": [
    {
     "name": "stdout",
     "output_type": "stream",
     "text": [
      "                            OLS Regression Results                            \n",
      "==============================================================================\n",
      "Dep. Variable:                      y   R-squared:                       0.885\n",
      "Model:                            OLS   Adj. R-squared:                  0.849\n",
      "Method:                 Least Squares   F-statistic:                     24.69\n",
      "Date:                Thu, 25 Jul 2024   Prob (F-statistic):           5.41e-07\n",
      "Time:                        15:57:19   Log-Likelihood:                -73.950\n",
      "No. Observations:                  22   AIC:                             159.9\n",
      "Df Residuals:                      16   BIC:                             166.4\n",
      "Df Model:                           5                                         \n",
      "Covariance Type:            nonrobust                                         \n",
      "==============================================================================\n",
      "                 coef    std err          t      P>|t|      [0.025      0.975]\n",
      "------------------------------------------------------------------------------\n",
      "x1           103.4708      9.878     10.475      0.000      82.530     124.412\n",
      "x2            97.7050      7.463     13.091      0.000      81.883     113.527\n",
      "x3            93.8734     11.312      8.298      0.000      69.892     117.855\n",
      "x4             0.9211      0.119      7.737      0.000       0.669       1.174\n",
      "x5             0.0814      0.221      0.369      0.717      -0.386       0.549\n",
      "x6            10.5980      5.052      2.098      0.052      -0.112      21.308\n",
      "==============================================================================\n",
      "Omnibus:                        1.031   Durbin-Watson:                   2.759\n",
      "Prob(Omnibus):                  0.597   Jarque-Bera (JB):                0.624\n",
      "Skew:                           0.407   Prob(JB):                        0.732\n",
      "Kurtosis:                       2.863   Cond. No.                         678.\n",
      "==============================================================================\n",
      "\n",
      "Notes:\n",
      "[1] Standard Errors assume that the covariance matrix of the errors is correctly specified.\n"
     ]
    }
   ],
   "source": [
    "import statsmodels.api as sm\n",
    "X = np.append(arr=np.ones((22, 1)).astype(int), values=data, axis=1)\n",
    "X_l = data.iloc[:, [0, 1, 2, 3, 4, 5]].values\n",
    "X_l = np.array(X_l, dtype=float)\n",
    "model = sm.OLS(height, X_l).fit()\n",
    "print(model.summary())"
   ]
  },
  {
   "cell_type": "markdown",
   "id": "3bc39353-958d-48a3-9ca8-6d66b0ed2d1f",
   "metadata": {},
   "source": [
    "### Removing One Feature and Updating Model"
   ]
  },
  {
   "cell_type": "code",
   "execution_count": 12,
   "id": "244e14cb-3818-4d1e-8fa4-d4ff125432d2",
   "metadata": {},
   "outputs": [
    {
     "name": "stdout",
     "output_type": "stream",
     "text": [
      "                            OLS Regression Results                            \n",
      "==============================================================================\n",
      "Dep. Variable:                      y   R-squared:                       0.884\n",
      "Model:                            OLS   Adj. R-squared:                  0.857\n",
      "Method:                 Least Squares   F-statistic:                     32.47\n",
      "Date:                Thu, 25 Jul 2024   Prob (F-statistic):           9.32e-08\n",
      "Time:                        15:57:42   Log-Likelihood:                -74.043\n",
      "No. Observations:                  22   AIC:                             158.1\n",
      "Df Residuals:                      17   BIC:                             163.5\n",
      "Df Model:                           4                                         \n",
      "Covariance Type:            nonrobust                                         \n",
      "==============================================================================\n",
      "                 coef    std err          t      P>|t|      [0.025      0.975]\n",
      "------------------------------------------------------------------------------\n",
      "x1           104.5490      9.193     11.373      0.000      85.153     123.944\n",
      "x2            97.9693      7.238     13.536      0.000      82.699     113.240\n",
      "x3            95.4352     10.220      9.338      0.000      73.873     116.998\n",
      "x4             0.9405      0.104      9.029      0.000       0.721       1.160\n",
      "x5            11.1093      4.733      2.347      0.031       1.123      21.096\n",
      "==============================================================================\n",
      "Omnibus:                        0.871   Durbin-Watson:                   2.719\n",
      "Prob(Omnibus):                  0.647   Jarque-Bera (JB):                0.459\n",
      "Skew:                           0.351   Prob(JB):                        0.795\n",
      "Kurtosis:                       2.910   Cond. No.                         596.\n",
      "==============================================================================\n",
      "\n",
      "Notes:\n",
      "[1] Standard Errors assume that the covariance matrix of the errors is correctly specified.\n"
     ]
    }
   ],
   "source": [
    "X_l = data.iloc[:, [0, 1, 2, 3, 5]].values\n",
    "X_l = np.array(X_l, dtype=float)\n",
    "model = sm.OLS(height, X_l).fit()\n",
    "print(model.summary())"
   ]
  },
  {
   "cell_type": "markdown",
   "id": "acb0a5a9-4f39-4160-988d-124034601565",
   "metadata": {},
   "source": [
    "### Removing Another Feature and Updating Model"
   ]
  },
  {
   "cell_type": "code",
   "execution_count": 13,
   "id": "551abe6a-318b-42c7-93d1-74917baae838",
   "metadata": {},
   "outputs": [
    {
     "name": "stdout",
     "output_type": "stream",
     "text": [
      "                            OLS Regression Results                            \n",
      "==============================================================================\n",
      "Dep. Variable:                      y   R-squared:                       0.847\n",
      "Model:                            OLS   Adj. R-squared:                  0.821\n",
      "Method:                 Least Squares   F-statistic:                     33.16\n",
      "Date:                Thu, 25 Jul 2024   Prob (F-statistic):           1.52e-07\n",
      "Time:                        15:58:03   Log-Likelihood:                -77.131\n",
      "No. Observations:                  22   AIC:                             162.3\n",
      "Df Residuals:                      18   BIC:                             166.6\n",
      "Df Model:                           3                                         \n",
      "Covariance Type:            nonrobust                                         \n",
      "==============================================================================\n",
      "                 coef    std err          t      P>|t|      [0.025      0.975]\n",
      "------------------------------------------------------------------------------\n",
      "x1           119.8136      7.265     16.491      0.000     104.550     135.077\n",
      "x2           109.8084      5.804     18.919      0.000      97.615     122.002\n",
      "x3           114.4212      6.984     16.382      0.000      99.747     129.095\n",
      "x4             0.7904      0.092      8.595      0.000       0.597       0.984\n",
      "==============================================================================\n",
      "Omnibus:                        2.925   Durbin-Watson:                   2.855\n",
      "Prob(Omnibus):                  0.232   Jarque-Bera (JB):                1.499\n",
      "Skew:                           0.605   Prob(JB):                        0.473\n",
      "Kurtosis:                       3.416   Cond. No.                         369.\n",
      "==============================================================================\n",
      "\n",
      "Notes:\n",
      "[1] Standard Errors assume that the covariance matrix of the errors is correctly specified.\n"
     ]
    }
   ],
   "source": [
    "X_l = data.iloc[:, [0, 1, 2, 3]].values\n",
    "X_l = np.array(X_l, dtype=float)\n",
    "model = sm.OLS(height, X_l).fit()\n",
    "print(model.summary())"
   ]
  }
 ],
 "metadata": {
  "kernelspec": {
   "display_name": "Python 3 (ipykernel)",
   "language": "python",
   "name": "python3"
  },
  "language_info": {
   "codemirror_mode": {
    "name": "ipython",
    "version": 3
   },
   "file_extension": ".py",
   "mimetype": "text/x-python",
   "name": "python",
   "nbconvert_exporter": "python",
   "pygments_lexer": "ipython3",
   "version": "3.12.4"
  }
 },
 "nbformat": 4,
 "nbformat_minor": 5
}
