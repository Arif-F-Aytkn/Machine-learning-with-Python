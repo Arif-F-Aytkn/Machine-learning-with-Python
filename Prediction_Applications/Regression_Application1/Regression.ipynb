{
 "cells": [
  {
   "cell_type": "markdown",
   "id": "2e6a0638-42ac-468c-818f-ef468d34b1e5",
   "metadata": {},
   "source": [
    "# Regression Application 1"
   ]
  },
  {
   "cell_type": "markdown",
   "id": "35327b1c-0d56-4fb2-9756-648e37bc188f",
   "metadata": {},
   "source": [
    "#### This code performs modelling and feature selection on a tennis dataset. First, the data is loaded and categorical features are processed by label coding and one-hot coding methods. The processed data is split into training and test sets. The linear regression model is trained and predictions are made on the test set. Then, backward elimination method is applied for feature selection: the first model is trained with all features and then the model is rebuilt by removing one feature. The summaries and prediction results of the new model obtained after feature selection are compared. This process eliminates redundant features to obtain the best model performance."
   ]
  },
  {
   "cell_type": "code",
   "execution_count": 1,
   "id": "f656262b-91f0-40cd-9678-753b8fee8140",
   "metadata": {},
   "outputs": [
    {
     "name": "stdout",
     "output_type": "stream",
     "text": [
      "     outlook  temperature  humidity  windy play\n",
      "0      sunny           85        85  False   no\n",
      "1      sunny           80        90   True   no\n",
      "2   overcast           83        86  False  yes\n",
      "3      rainy           70        96  False  yes\n",
      "4      rainy           68        80  False  yes\n",
      "5      rainy           65        70   True   no\n",
      "6   overcast           64        65   True  yes\n",
      "7      sunny           72        95  False   no\n",
      "8      sunny           69        70  False  yes\n",
      "9      rainy           75        80  False  yes\n",
      "10     sunny           75        70   True  yes\n",
      "11  overcast           72        90   True  yes\n",
      "12  overcast           81        75  False  yes\n",
      "13     rainy           71        91   True   no\n"
     ]
    }
   ],
   "source": [
    "import numpy as np\n",
    "import matplotlib.pyplot as plt\n",
    "import pandas as pd\n",
    "from sklearn.preprocessing import LabelEncoder, OneHotEncoder\n",
    "from sklearn.compose import ColumnTransformer\n",
    "from sklearn.model_selection import train_test_split\n",
    "from sklearn.linear_model import LinearRegression\n",
    "import statsmodels.api as sm\n",
    "\n",
    "data = pd.read_csv(\"C:\\\\Users\\\\Arif Furkan\\\\OneDrive\\\\Belgeler\\\\Python_kullanirken\\\\odev_tenis.csv\")\n",
    "print(data)"
   ]
  },
  {
   "cell_type": "markdown",
   "id": "1881826a-aa73-4eed-a50d-8d6d4f49648f",
   "metadata": {},
   "source": [
    "## Encode categorical features"
   ]
  },
  {
   "cell_type": "code",
   "execution_count": 2,
   "id": "5bbf913f-ed91-41ec-8c0f-a08b8431f6e6",
   "metadata": {},
   "outputs": [],
   "source": [
    "label_encoder = LabelEncoder()\n",
    "data_encoded = data.apply(label_encoder.fit_transform)"
   ]
  },
  {
   "cell_type": "code",
   "execution_count": 3,
   "id": "ec447696-40a7-4143-b11e-4574f13244b3",
   "metadata": {},
   "outputs": [],
   "source": [
    "column_transformer = ColumnTransformer(\n",
    "    transformers=[('encoder', OneHotEncoder(), [0])],\n",
    "    remainder='passthrough')\n",
    "weather_encoded = column_transformer.fit_transform(data_encoded.iloc[:, :1])"
   ]
  },
  {
   "cell_type": "code",
   "execution_count": 4,
   "id": "7ae6fca8-8048-492e-ad2c-814023f18d09",
   "metadata": {},
   "outputs": [],
   "source": [
    "weather_df = pd.DataFrame(data=weather_encoded, index=range(len(data)), columns=['o', 'r', 's'])"
   ]
  },
  {
   "cell_type": "code",
   "execution_count": 5,
   "id": "3c1a1338-e1da-4b85-ac59-99fecdcfbeae",
   "metadata": {},
   "outputs": [],
   "source": [
    "processed_data = pd.concat([weather_df, data_encoded.iloc[:, 1:3]], axis=1)\n",
    "processed_data = pd.concat([data_encoded.iloc[:, -2:], processed_data], axis=1)"
   ]
  },
  {
   "cell_type": "markdown",
   "id": "d4f52538-a15f-406b-8269-923d2c0c7285",
   "metadata": {},
   "source": [
    "## Split the dataset into training and testing sets"
   ]
  },
  {
   "cell_type": "code",
   "execution_count": 6,
   "id": "3639722f-442e-4aed-8db1-89ab2dac976f",
   "metadata": {},
   "outputs": [],
   "source": [
    "x_train, x_test, y_train, y_test = train_test_split(processed_data.iloc[:, :-1], processed_data.iloc[:, -1:], test_size=0.33, random_state=0)"
   ]
  },
  {
   "cell_type": "markdown",
   "id": "838232e3-eba0-4e81-93df-9d4a0eef631a",
   "metadata": {},
   "source": [
    "## Train a Linear Regression model"
   ]
  },
  {
   "cell_type": "code",
   "execution_count": 7,
   "id": "9061a3e6-4235-470b-8b52-75e25e190ba0",
   "metadata": {},
   "outputs": [
    {
     "name": "stdout",
     "output_type": "stream",
     "text": [
      "Predictions:\n",
      " [[ 5.64285714]\n",
      " [ 0.35714286]\n",
      " [ 5.92857143]\n",
      " [-0.5       ]\n",
      " [ 1.85714286]]\n"
     ]
    }
   ],
   "source": [
    "regressor = LinearRegression()\n",
    "regressor.fit(x_train, y_train)\n",
    "y_pred = regressor.predict(x_test)\n",
    "print(\"Predictions:\\n\", y_pred)"
   ]
  },
  {
   "cell_type": "markdown",
   "id": "856fb117-2c68-4153-a2ee-d7700479aaa0",
   "metadata": {},
   "source": [
    "## Backward elimination for feature selection"
   ]
  },
  {
   "cell_type": "code",
   "execution_count": 8,
   "id": "9eb98c3e-ccbb-4438-b1de-90a50e5bb569",
   "metadata": {},
   "outputs": [],
   "source": [
    "# Add a column of ones to the dataset for the intercept term\n",
    "X = np.append(arr=np.ones((len(processed_data), 1)).astype(int), values=processed_data.iloc[:, :-1], axis=1)"
   ]
  },
  {
   "cell_type": "markdown",
   "id": "812b252e-58b9-4c1f-9445-45155426139d",
   "metadata": {},
   "source": [
    "## Initial model"
   ]
  },
  {
   "cell_type": "code",
   "execution_count": 9,
   "id": "e0f68198-ea42-4240-8519-39eb8d7d3410",
   "metadata": {},
   "outputs": [
    {
     "name": "stdout",
     "output_type": "stream",
     "text": [
      "Initial Model Summary:\n",
      "                             OLS Regression Results                            \n",
      "==============================================================================\n",
      "Dep. Variable:               humidity   R-squared:                       0.266\n",
      "Model:                            OLS   Adj. R-squared:                 -0.192\n",
      "Method:                 Least Squares   F-statistic:                    0.5807\n",
      "Date:                Thu, 25 Jul 2024   Prob (F-statistic):              0.715\n",
      "Time:                        16:52:55   Log-Likelihood:                -31.999\n",
      "No. Observations:                  14   AIC:                             76.00\n",
      "Df Residuals:                       8   BIC:                             79.83\n",
      "Df Model:                           5                                         \n",
      "Covariance Type:            nonrobust                                         \n",
      "==============================================================================\n",
      "                 coef    std err          t      P>|t|      [0.025      0.975]\n",
      "------------------------------------------------------------------------------\n",
      "x1            -0.7947      2.026     -0.392      0.705      -5.466       3.877\n",
      "x2            -2.0435      2.277     -0.897      0.396      -7.295       3.208\n",
      "x3             3.8936      4.413      0.882      0.403      -6.284      14.071\n",
      "x4             5.0512      2.985      1.692      0.129      -1.832      11.935\n",
      "x5             3.1223      3.493      0.894      0.398      -4.933      11.178\n",
      "x6             0.2876      0.326      0.882      0.404      -0.464       1.040\n",
      "==============================================================================\n",
      "Omnibus:                        1.172   Durbin-Watson:                   2.302\n",
      "Prob(Omnibus):                  0.556   Jarque-Bera (JB):                0.987\n",
      "Skew:                           0.527   Prob(JB):                        0.611\n",
      "Kurtosis:                       2.239   Cond. No.                         49.7\n",
      "==============================================================================\n",
      "\n",
      "Notes:\n",
      "[1] Standard Errors assume that the covariance matrix of the errors is correctly specified.\n"
     ]
    },
    {
     "name": "stderr",
     "output_type": "stream",
     "text": [
      "C:\\ProgramData\\anaconda3\\Lib\\site-packages\\scipy\\stats\\_axis_nan_policy.py:531: UserWarning: kurtosistest only valid for n>=20 ... continuing anyway, n=14\n",
      "  res = hypotest_fun_out(*samples, **kwds)\n"
     ]
    }
   ],
   "source": [
    "X_1 = processed_data.iloc[:, [0, 1, 2, 3, 4, 5]].values\n",
    "X_1 = np.array(X_1, dtype=float)\n",
    "model = sm.OLS(processed_data.iloc[:, -1], X_1).fit()\n",
    "print(\"Initial Model Summary:\\n\", model.summary())"
   ]
  },
  {
   "cell_type": "markdown",
   "id": "801fb240-a190-4618-89f3-992ab70adbf0",
   "metadata": {},
   "source": [
    "## Remove one feature and update model"
   ]
  },
  {
   "cell_type": "code",
   "execution_count": 10,
   "id": "3aece373-473b-440b-a9d7-fb80bff518a3",
   "metadata": {},
   "outputs": [
    {
     "name": "stdout",
     "output_type": "stream",
     "text": [
      "Updated Model Summary (after feature removal):\n",
      "                             OLS Regression Results                            \n",
      "==============================================================================\n",
      "Dep. Variable:               humidity   R-squared:                       0.252\n",
      "Model:                            OLS   Adj. R-squared:                 -0.080\n",
      "Method:                 Least Squares   F-statistic:                    0.7587\n",
      "Date:                Thu, 25 Jul 2024   Prob (F-statistic):              0.577\n",
      "Time:                        16:53:57   Log-Likelihood:                -32.133\n",
      "No. Observations:                  14   AIC:                             74.27\n",
      "Df Residuals:                       9   BIC:                             77.46\n",
      "Df Model:                           4                                         \n",
      "Covariance Type:            nonrobust                                         \n",
      "==============================================================================\n",
      "                 coef    std err          t      P>|t|      [0.025      0.975]\n",
      "------------------------------------------------------------------------------\n",
      "x1            -1.6565      1.954     -0.848      0.418      -6.076       2.763\n",
      "x2             2.7599      3.175      0.869      0.407      -4.422       9.942\n",
      "x3             4.2888      2.156      1.989      0.078      -0.589       9.167\n",
      "x4             2.2584      2.581      0.875      0.404      -3.580       8.097\n",
      "x5             0.3435      0.279      1.230      0.250      -0.288       0.975\n",
      "==============================================================================\n",
      "Omnibus:                        1.310   Durbin-Watson:                   2.204\n",
      "Prob(Omnibus):                  0.520   Jarque-Bera (JB):                1.014\n",
      "Skew:                           0.589   Prob(JB):                        0.602\n",
      "Kurtosis:                       2.407   Cond. No.                         35.6\n",
      "==============================================================================\n",
      "\n",
      "Notes:\n",
      "[1] Standard Errors assume that the covariance matrix of the errors is correctly specified.\n"
     ]
    },
    {
     "name": "stderr",
     "output_type": "stream",
     "text": [
      "C:\\ProgramData\\anaconda3\\Lib\\site-packages\\scipy\\stats\\_axis_nan_policy.py:531: UserWarning: kurtosistest only valid for n>=20 ... continuing anyway, n=14\n",
      "  res = hypotest_fun_out(*samples, **kwds)\n"
     ]
    }
   ],
   "source": [
    "processed_data = processed_data.iloc[:, 1:]\n",
    "X = np.append(arr=np.ones((len(processed_data), 1)).astype(int), values=processed_data.iloc[:, :-1], axis=1)\n",
    "X_1 = processed_data.iloc[:, [0, 1, 2, 3, 4]].values\n",
    "X_1 = np.array(X_1, dtype=float)\n",
    "model = sm.OLS(processed_data.iloc[:, -1], X_1).fit()\n",
    "print(\"Updated Model Summary (after feature removal):\\n\", model.summary())"
   ]
  },
  {
   "cell_type": "markdown",
   "id": "0f0dfb62-ada3-4c9b-a7dc-8ce599ff85e1",
   "metadata": {},
   "source": [
    "## Train the model again after feature selection"
   ]
  },
  {
   "cell_type": "code",
   "execution_count": 11,
   "id": "d09c3471-216a-4020-a666-e38c58c87dc9",
   "metadata": {},
   "outputs": [
    {
     "name": "stdout",
     "output_type": "stream",
     "text": [
      "Predictions after feature selection:\n",
      " [[3.19296254]\n",
      " [0.71282633]\n",
      " [4.1169126 ]\n",
      " [1.57094211]\n",
      " [2.1430193 ]]\n"
     ]
    }
   ],
   "source": [
    "x_train = x_train.iloc[:, 1:]\n",
    "x_test = x_test.iloc[:, 1:]\n",
    "regressor.fit(x_train, y_train)\n",
    "y_pred = regressor.predict(x_test)\n",
    "print(\"Predictions after feature selection:\\n\", y_pred)"
   ]
  }
 ],
 "metadata": {
  "kernelspec": {
   "display_name": "Python 3 (ipykernel)",
   "language": "python",
   "name": "python3"
  },
  "language_info": {
   "codemirror_mode": {
    "name": "ipython",
    "version": 3
   },
   "file_extension": ".py",
   "mimetype": "text/x-python",
   "name": "python",
   "nbconvert_exporter": "python",
   "pygments_lexer": "ipython3",
   "version": "3.12.4"
  }
 },
 "nbformat": 4,
 "nbformat_minor": 5
}
