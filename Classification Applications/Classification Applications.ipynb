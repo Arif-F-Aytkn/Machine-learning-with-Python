{
 "cells": [
  {
   "cell_type": "markdown",
   "id": "5750ec71-d641-4816-a5c9-50c00d1f2fbb",
   "metadata": {},
   "source": [
    "# Classification Applications"
   ]
  },
  {
   "cell_type": "markdown",
   "id": "9348aee4-3a95-463b-98f2-58a55c4ccda5",
   "metadata": {},
   "source": [
    "### This code uses the Iris dataset to compare the performance of different machine learning algorithms and perform ROC curve and AUC calculations. For each algorithm, the model is trained, predictions are made and the confusion matrix is generated. Finally, the ROC curve is plotted and the AUC value is calculated."
   ]
  },
  {
   "cell_type": "markdown",
   "id": "0f38ad68-ee9e-4719-91f2-f18d72bc1c22",
   "metadata": {},
   "source": [
    "### Data Loading and Preprocessing"
   ]
  },
  {
   "cell_type": "code",
   "execution_count": 2,
   "id": "a322c62a-267d-46aa-bec3-3dd53be28b6c",
   "metadata": {},
   "outputs": [
    {
     "name": "stdout",
     "output_type": "stream",
     "text": [
      "     sepal length  sepal width  petal length  petal width            iris\n",
      "0             5.1          3.5           1.4          0.2     Iris-setosa\n",
      "1             4.9          3.0           1.4          0.2     Iris-setosa\n",
      "2             4.7          3.2           1.3          0.2     Iris-setosa\n",
      "3             4.6          3.1           1.5          0.2     Iris-setosa\n",
      "4             5.0          3.6           1.4          0.2     Iris-setosa\n",
      "..            ...          ...           ...          ...             ...\n",
      "145           6.7          3.0           5.2          2.3  Iris-virginica\n",
      "146           6.3          2.5           5.0          1.9  Iris-virginica\n",
      "147           6.5          3.0           5.2          2.0  Iris-virginica\n",
      "148           6.2          3.4           5.4          2.3  Iris-virginica\n",
      "149           5.9          3.0           5.1          1.8  Iris-virginica\n",
      "\n",
      "[150 rows x 5 columns]\n",
      "['Iris-setosa' 'Iris-setosa' 'Iris-setosa' 'Iris-setosa' 'Iris-setosa'\n",
      " 'Iris-setosa' 'Iris-setosa' 'Iris-setosa' 'Iris-setosa' 'Iris-setosa'\n",
      " 'Iris-setosa' 'Iris-setosa' 'Iris-setosa' 'Iris-setosa' 'Iris-setosa'\n",
      " 'Iris-setosa' 'Iris-setosa' 'Iris-setosa' 'Iris-setosa' 'Iris-setosa'\n",
      " 'Iris-setosa' 'Iris-setosa' 'Iris-setosa' 'Iris-setosa' 'Iris-setosa'\n",
      " 'Iris-setosa' 'Iris-setosa' 'Iris-setosa' 'Iris-setosa' 'Iris-setosa'\n",
      " 'Iris-setosa' 'Iris-setosa' 'Iris-setosa' 'Iris-setosa' 'Iris-setosa'\n",
      " 'Iris-setosa' 'Iris-setosa' 'Iris-setosa' 'Iris-setosa' 'Iris-setosa'\n",
      " 'Iris-setosa' 'Iris-setosa' 'Iris-setosa' 'Iris-setosa' 'Iris-setosa'\n",
      " 'Iris-setosa' 'Iris-setosa' 'Iris-setosa' 'Iris-setosa' 'Iris-setosa'\n",
      " 'Iris-versicolor' 'Iris-versicolor' 'Iris-versicolor' 'Iris-versicolor'\n",
      " 'Iris-versicolor' 'Iris-versicolor' 'Iris-versicolor' 'Iris-versicolor'\n",
      " 'Iris-versicolor' 'Iris-versicolor' 'Iris-versicolor' 'Iris-versicolor'\n",
      " 'Iris-versicolor' 'Iris-versicolor' 'Iris-versicolor' 'Iris-versicolor'\n",
      " 'Iris-versicolor' 'Iris-versicolor' 'Iris-versicolor' 'Iris-versicolor'\n",
      " 'Iris-versicolor' 'Iris-versicolor' 'Iris-versicolor' 'Iris-versicolor'\n",
      " 'Iris-versicolor' 'Iris-versicolor' 'Iris-versicolor' 'Iris-versicolor'\n",
      " 'Iris-versicolor' 'Iris-versicolor' 'Iris-versicolor' 'Iris-versicolor'\n",
      " 'Iris-versicolor' 'Iris-versicolor' 'Iris-versicolor' 'Iris-versicolor'\n",
      " 'Iris-versicolor' 'Iris-versicolor' 'Iris-versicolor' 'Iris-versicolor'\n",
      " 'Iris-versicolor' 'Iris-versicolor' 'Iris-versicolor' 'Iris-versicolor'\n",
      " 'Iris-versicolor' 'Iris-versicolor' 'Iris-versicolor' 'Iris-versicolor'\n",
      " 'Iris-versicolor' 'Iris-versicolor' 'Iris-virginica' 'Iris-virginica'\n",
      " 'Iris-virginica' 'Iris-virginica' 'Iris-virginica' 'Iris-virginica'\n",
      " 'Iris-virginica' 'Iris-virginica' 'Iris-virginica' 'Iris-virginica'\n",
      " 'Iris-virginica' 'Iris-virginica' 'Iris-virginica' 'Iris-virginica'\n",
      " 'Iris-virginica' 'Iris-virginica' 'Iris-virginica' 'Iris-virginica'\n",
      " 'Iris-virginica' 'Iris-virginica' 'Iris-virginica' 'Iris-virginica'\n",
      " 'Iris-virginica' 'Iris-virginica' 'Iris-virginica' 'Iris-virginica'\n",
      " 'Iris-virginica' 'Iris-virginica' 'Iris-virginica' 'Iris-virginica'\n",
      " 'Iris-virginica' 'Iris-virginica' 'Iris-virginica' 'Iris-virginica'\n",
      " 'Iris-virginica' 'Iris-virginica' 'Iris-virginica' 'Iris-virginica'\n",
      " 'Iris-virginica' 'Iris-virginica' 'Iris-virginica' 'Iris-virginica'\n",
      " 'Iris-virginica' 'Iris-virginica' 'Iris-virginica' 'Iris-virginica'\n",
      " 'Iris-virginica' 'Iris-virginica' 'Iris-virginica' 'Iris-virginica']\n"
     ]
    }
   ],
   "source": [
    "import numpy as np\n",
    "import matplotlib.pyplot as plt\n",
    "import pandas as pd\n",
    "data = pd.read_excel(\"C:\\\\Users\\\\Arif Furkan\\\\OneDrive\\\\Belgeler\\\\Python_kullanirken\\\\iris.xlsx\")\n",
    "print(data)\n",
    "x = data.iloc[:,1:4].values \n",
    "y = data.iloc[:,4].values  # Change to single column to match target variable \n",
    "print(y)"
   ]
  },
  {
   "cell_type": "markdown",
   "id": "a9f83bd6-695b-4d19-8722-b11d21069942",
   "metadata": {},
   "source": [
    "### Separating the Data Set into Training and Testing"
   ]
  },
  {
   "cell_type": "code",
   "execution_count": 3,
   "id": "5e35ec69-b67b-448f-a03c-9c318c6d818e",
   "metadata": {},
   "outputs": [],
   "source": [
    "from sklearn.model_selection import train_test_split\n",
    "x_train, x_test,y_train,y_test = train_test_split(x,y,test_size=0.33, random_state=0)\n",
    "from sklearn.preprocessing import StandardScaler\n",
    "sc=StandardScaler()\n",
    "X_train = sc.fit_transform(x_train)\n",
    "X_test = sc.transform(x_test)"
   ]
  },
  {
   "cell_type": "markdown",
   "id": "bdf52ce6-e07a-4de1-b2c6-5e9eb5a83177",
   "metadata": {},
   "source": [
    "## 1. LOGISTIC REGRESSION"
   ]
  },
  {
   "cell_type": "code",
   "execution_count": 4,
   "id": "f15ea674-9e06-4afb-82bb-ce7db19f7008",
   "metadata": {},
   "outputs": [
    {
     "name": "stdout",
     "output_type": "stream",
     "text": [
      "['Iris-virginica' 'Iris-versicolor' 'Iris-setosa' 'Iris-virginica'\n",
      " 'Iris-setosa' 'Iris-virginica' 'Iris-setosa' 'Iris-versicolor'\n",
      " 'Iris-versicolor' 'Iris-versicolor' 'Iris-versicolor' 'Iris-versicolor'\n",
      " 'Iris-versicolor' 'Iris-versicolor' 'Iris-versicolor' 'Iris-setosa'\n",
      " 'Iris-versicolor' 'Iris-versicolor' 'Iris-setosa' 'Iris-setosa'\n",
      " 'Iris-virginica' 'Iris-versicolor' 'Iris-setosa' 'Iris-setosa'\n",
      " 'Iris-virginica' 'Iris-setosa' 'Iris-setosa' 'Iris-versicolor'\n",
      " 'Iris-versicolor' 'Iris-setosa' 'Iris-virginica' 'Iris-versicolor'\n",
      " 'Iris-setosa' 'Iris-virginica' 'Iris-virginica' 'Iris-versicolor'\n",
      " 'Iris-setosa' 'Iris-virginica' 'Iris-versicolor' 'Iris-versicolor'\n",
      " 'Iris-virginica' 'Iris-setosa' 'Iris-virginica' 'Iris-setosa'\n",
      " 'Iris-setosa' 'Iris-versicolor' 'Iris-virginica' 'Iris-virginica'\n",
      " 'Iris-versicolor' 'Iris-virginica']\n",
      "['Iris-virginica' 'Iris-versicolor' 'Iris-setosa' 'Iris-virginica'\n",
      " 'Iris-setosa' 'Iris-virginica' 'Iris-setosa' 'Iris-versicolor'\n",
      " 'Iris-versicolor' 'Iris-versicolor' 'Iris-virginica' 'Iris-versicolor'\n",
      " 'Iris-versicolor' 'Iris-versicolor' 'Iris-versicolor' 'Iris-setosa'\n",
      " 'Iris-versicolor' 'Iris-versicolor' 'Iris-setosa' 'Iris-setosa'\n",
      " 'Iris-virginica' 'Iris-versicolor' 'Iris-setosa' 'Iris-setosa'\n",
      " 'Iris-virginica' 'Iris-setosa' 'Iris-setosa' 'Iris-versicolor'\n",
      " 'Iris-versicolor' 'Iris-setosa' 'Iris-virginica' 'Iris-versicolor'\n",
      " 'Iris-setosa' 'Iris-virginica' 'Iris-virginica' 'Iris-versicolor'\n",
      " 'Iris-setosa' 'Iris-versicolor' 'Iris-versicolor' 'Iris-versicolor'\n",
      " 'Iris-virginica' 'Iris-setosa' 'Iris-virginica' 'Iris-setosa'\n",
      " 'Iris-setosa' 'Iris-versicolor' 'Iris-virginica' 'Iris-virginica'\n",
      " 'Iris-virginica' 'Iris-virginica']\n"
     ]
    }
   ],
   "source": [
    "from sklearn.linear_model import LogisticRegression\n",
    "logr = LogisticRegression(random_state=0)\n",
    "logr.fit(X_train,y_train)\n",
    "y_pred = logr.predict(X_test)\n",
    "print(y_pred)\n",
    "print(y_test)"
   ]
  },
  {
   "cell_type": "markdown",
   "id": "e4f94391-70e6-4150-9ada-5c6931fd7b9e",
   "metadata": {},
   "source": [
    "#### CONFUSION MATRIX"
   ]
  },
  {
   "cell_type": "code",
   "execution_count": 5,
   "id": "ef4190ba-8cb9-451b-a52a-0722f2f60abf",
   "metadata": {},
   "outputs": [
    {
     "name": "stdout",
     "output_type": "stream",
     "text": [
      "1. LOGISTIC REGRESSION\n",
      "[[16  0  0]\n",
      " [ 0 18  1]\n",
      " [ 0  2 13]]\n"
     ]
    }
   ],
   "source": [
    "from sklearn.metrics import confusion_matrix\n",
    "cm1 = confusion_matrix(y_test,y_pred)\n",
    "print(\"1. LOGISTIC REGRESSION\")\n",
    "print(cm1)"
   ]
  },
  {
   "cell_type": "markdown",
   "id": "c9d76f38-9729-4cec-9637-142784e3cbda",
   "metadata": {},
   "source": [
    "## 2. KNN"
   ]
  },
  {
   "cell_type": "code",
   "execution_count": 6,
   "id": "a0541310-9d2f-432c-bd10-0bee2b057dee",
   "metadata": {},
   "outputs": [
    {
     "name": "stdout",
     "output_type": "stream",
     "text": [
      "KNN\n",
      "[[16  0  0]\n",
      " [ 0 18  1]\n",
      " [ 0  2 13]]\n"
     ]
    }
   ],
   "source": [
    "from sklearn.neighbors import KNeighborsClassifier\n",
    "knn = KNeighborsClassifier(n_neighbors=1,metric='minkowski')\n",
    "knn.fit(X_train, y_train)\n",
    "y_pred = knn.predict(X_test)\n",
    "\n",
    "cm2=confusion_matrix(y_test,y_pred)\n",
    "print(\"KNN\")\n",
    "print(cm2)\n"
   ]
  },
  {
   "cell_type": "markdown",
   "id": "5399ed58-d34f-4bb0-9fe9-33be62657eed",
   "metadata": {},
   "source": [
    "## 3. SVC"
   ]
  },
  {
   "cell_type": "code",
   "execution_count": 7,
   "id": "80f6ff7f-e77f-444a-b80e-d7022543fc6c",
   "metadata": {},
   "outputs": [
    {
     "name": "stdout",
     "output_type": "stream",
     "text": [
      "SVC\n",
      "[[16  0  0]\n",
      " [ 0 18  1]\n",
      " [ 0  0 15]]\n"
     ]
    }
   ],
   "source": [
    "from sklearn.svm import SVC\n",
    "svc = SVC(kernel='linear')\n",
    "svc.fit(X_train,y_train)\n",
    "y_pred= svc.predict(X_test)\n",
    "\n",
    "cm3=confusion_matrix(y_test,y_pred)\n",
    "print(\"SVC\")\n",
    "print(cm3)"
   ]
  },
  {
   "cell_type": "markdown",
   "id": "30818d37-ba88-4776-9bde-1f4b9c81fd4d",
   "metadata": {},
   "source": [
    "## 4. NON LINEAR SVM"
   ]
  },
  {
   "cell_type": "code",
   "execution_count": 8,
   "id": "85a0d5ba-e7c0-4933-a444-47a5242991d6",
   "metadata": {},
   "outputs": [
    {
     "name": "stdout",
     "output_type": "stream",
     "text": [
      "NON LINEAR SVM\n",
      "[[16  0  0]\n",
      " [ 0 19  0]\n",
      " [ 0  4 11]]\n"
     ]
    }
   ],
   "source": [
    "from sklearn.svm import SVC\n",
    "svc = SVC(kernel='poly')\n",
    "svc.fit(X_train,y_train)\n",
    "y_pred= svc.predict(X_test)\n",
    "\n",
    "cm4=confusion_matrix(y_test,y_pred)\n",
    "print(\"NON LINEAR SVM\")\n",
    "print(cm4)"
   ]
  },
  {
   "cell_type": "markdown",
   "id": "405fccea-0e59-403a-b390-d355036e6998",
   "metadata": {},
   "source": [
    "## 5. NAIVE BAYES"
   ]
  },
  {
   "cell_type": "code",
   "execution_count": 9,
   "id": "9e4b1e58-f198-417c-a479-5b555fad96c5",
   "metadata": {},
   "outputs": [
    {
     "name": "stdout",
     "output_type": "stream",
     "text": [
      "NAIVE BAYES\n",
      "[[16  0  0]\n",
      " [ 0 19  0]\n",
      " [ 0  2 13]]\n"
     ]
    }
   ],
   "source": [
    "from sklearn.naive_bayes import GaussianNB \n",
    "gnb = GaussianNB()\n",
    "gnb.fit(X_train,y_train)\n",
    "y_pred=gnb.predict(X_test)\n",
    "\n",
    "cm5=confusion_matrix(y_test,y_pred)\n",
    "print(\"NAIVE BAYES\")\n",
    "print(cm5)"
   ]
  },
  {
   "cell_type": "markdown",
   "id": "8d5a1fa2-3a67-437e-9089-c5755adbe4f8",
   "metadata": {},
   "source": [
    "## 6. DECISION TREE"
   ]
  },
  {
   "cell_type": "code",
   "execution_count": 10,
   "id": "c57eb055-f252-4362-a4f9-ec4faa51f2d4",
   "metadata": {},
   "outputs": [
    {
     "name": "stdout",
     "output_type": "stream",
     "text": [
      "DECISION TREE\n",
      "[[16  0  0]\n",
      " [ 0 18  1]\n",
      " [ 0  1 14]]\n"
     ]
    }
   ],
   "source": [
    "from sklearn.tree import DecisionTreeClassifier\n",
    "dtc = DecisionTreeClassifier(criterion='entropy')\n",
    "dtc.fit(X_train,y_train)\n",
    "y_pred=dtc.predict(X_test)\n",
    "\n",
    "cm6=confusion_matrix(y_test,y_pred)\n",
    "print(\"DECISION TREE\")\n",
    "print(cm6)"
   ]
  },
  {
   "cell_type": "markdown",
   "id": "fee268e1-418e-4b3c-bfce-c714ed598f65",
   "metadata": {},
   "source": [
    "## 7. RANDOM FOREST"
   ]
  },
  {
   "cell_type": "code",
   "execution_count": 11,
   "id": "85e3b0eb-3f5c-4bf5-8c89-a0f2f8b0196b",
   "metadata": {},
   "outputs": [
    {
     "name": "stdout",
     "output_type": "stream",
     "text": [
      "RANDOM FOREST\n",
      "[[16  0  0]\n",
      " [ 0 18  1]\n",
      " [ 0  1 14]]\n"
     ]
    }
   ],
   "source": [
    "from sklearn.ensemble import RandomForestClassifier\n",
    "rfc =RandomForestClassifier(n_estimators=10, criterion='entropy')\n",
    "rfc.fit(X_train,y_train)\n",
    "y_pred= rfc.predict(X_test)\n",
    "\n",
    "cm7 = confusion_matrix(y_test,y_pred)\n",
    "print(\"RANDOM FOREST\")\n",
    "print(cm7)"
   ]
  },
  {
   "cell_type": "markdown",
   "id": "99ccf596-8445-4e9a-8850-26ab4f097bc9",
   "metadata": {},
   "source": [
    "## ROC, TPR, FPR"
   ]
  },
  {
   "cell_type": "code",
   "execution_count": 14,
   "id": "9435af8e-9fc7-4e59-9371-9232a0f5e215",
   "metadata": {},
   "outputs": [
    {
     "name": "stdout",
     "output_type": "stream",
     "text": [
      "True values (y_test): ['Iris-virginica' 'Iris-versicolor' 'Iris-setosa' 'Iris-virginica'\n",
      " 'Iris-setosa' 'Iris-virginica' 'Iris-setosa' 'Iris-versicolor'\n",
      " 'Iris-versicolor' 'Iris-versicolor' 'Iris-virginica' 'Iris-versicolor'\n",
      " 'Iris-versicolor' 'Iris-versicolor' 'Iris-versicolor' 'Iris-setosa'\n",
      " 'Iris-versicolor' 'Iris-versicolor' 'Iris-setosa' 'Iris-setosa'\n",
      " 'Iris-virginica' 'Iris-versicolor' 'Iris-setosa' 'Iris-setosa'\n",
      " 'Iris-virginica' 'Iris-setosa' 'Iris-setosa' 'Iris-versicolor'\n",
      " 'Iris-versicolor' 'Iris-setosa' 'Iris-virginica' 'Iris-versicolor'\n",
      " 'Iris-setosa' 'Iris-virginica' 'Iris-virginica' 'Iris-versicolor'\n",
      " 'Iris-setosa' 'Iris-versicolor' 'Iris-versicolor' 'Iris-versicolor'\n",
      " 'Iris-virginica' 'Iris-setosa' 'Iris-virginica' 'Iris-setosa'\n",
      " 'Iris-setosa' 'Iris-versicolor' 'Iris-virginica' 'Iris-virginica'\n",
      " 'Iris-virginica' 'Iris-virginica']\n",
      "Predicted probabilities (y_proba[:,1]): [0.  1.  0.  0.  0.  0.  0.  1.  0.6 1.  0.2 1.  0.9 0.8 0.9 0.  0.9 1.\n",
      " 0.  0.  0.1 1.  0.  0.  0.1 0.  0.  1.  1.  0.  0.  1.  0.  0.1 0.  1.\n",
      " 0.  0.2 1.  1.  0.  0.  0.  0.  0.  1.  0.  0.  0.8 0. ]\n",
      "FPR: [0.         0.         0.         0.03225806 0.03225806 0.06451613\n",
      " 0.16129032 1.        ]\n",
      "TPR: [0.         0.68421053 0.84210526 0.89473684 0.94736842 1.\n",
      " 1.         1.        ]\n",
      "Thresholds: [inf 1.  0.9 0.8 0.6 0.2 0.1 0. ]\n",
      "AUC: 0.9949066213921902\n"
     ]
    },
    {
     "data": {
      "image/png": "[encoded data removed]",
      "text/plain": [
       "<Figure size 640x480 with 1 Axes>"
      ]
     },
     "metadata": {},
     "output_type": "display_data"
    }
   ],
   "source": [
    "from sklearn import metrics\n",
    "import numpy as np\n",
    "import matplotlib.pyplot as plt\n",
    "\n",
    "# Example predictions and true values\n",
    "y_proba = rfc.predict_proba(X_test)  # Ensure your 'rfc' is defined\n",
    "y_test = np.array(y_test)  # True labels\n",
    "\n",
    "print(\"True values (y_test):\", y_test)\n",
    "print(\"Predicted probabilities (y_proba[:,1]):\", y_proba[:, 1])\n",
    "\n",
    "pos_label_value = 'Iris-versicolor'\n",
    "\n",
    "# Converting positive label to numeric value\n",
    "unique_labels = np.unique(y_test)\n",
    "if pos_label_value in unique_labels:\n",
    "    pos_label_index = np.where(unique_labels == pos_label_value)[0][0]\n",
    "    \n",
    "    # Converting labels to numeric values\n",
    "    y_test_numeric = np.where(y_test == pos_label_value, pos_label_index, 1 - pos_label_index)\n",
    "    \n",
    "    fpr, tpr, thresholds = metrics.roc_curve(y_test_numeric, y_proba[:, 1], pos_label=pos_label_index)\n",
    "    auc_score = metrics.auc(fpr, tpr)  # Calculate AUC\n",
    "    print(\"FPR:\", fpr)\n",
    "    print(\"TPR:\", tpr)\n",
    "    print(\"Thresholds:\", thresholds)\n",
    "    print(\"AUC:\", auc_score)\n",
    "\n",
    "    # Plotting the ROC curve\n",
    "    plt.figure()\n",
    "    plt.plot(fpr, tpr, color='darkorange', lw=2, label='ROC curve (AUC = %0.2f)' % auc_score)\n",
    "    plt.plot([0, 1], [0, 1], color='navy', lw=2, linestyle='--')\n",
    "    plt.xlim([0.0, 1.0])\n",
    "    plt.ylim([0.0, 1.05])\n",
    "    plt.xlabel('False Positive Rate')\n",
    "    plt.ylabel('True Positive Rate')\n",
    "    plt.title('Receiver Operating Characteristic (ROC)')\n",
    "    plt.legend(loc='lower right')\n",
    "    plt.show()\n",
    "else:\n",
    "    print(f\"Positive label ({pos_label_value}) not found in y_test.\")\n"
   ]
  },
  {
   "cell_type": "markdown",
   "id": "498a9bd1-fcc0-478f-b74f-5dae70dfed63",
   "metadata": {},
   "source": [
    "##### As a result, the least error(2); NAIVE BAYES or DECISION TREE algorithms will give the best results."
   ]
  }
 ],
 "metadata": {
  "kernelspec": {
   "display_name": "Python 3 (ipykernel)",
   "language": "python",
   "name": "python3"
  },
  "language_info": {
   "codemirror_mode": {
    "name": "ipython",
    "version": 3
   },
   "file_extension": ".py",
   "mimetype": "text/x-python",
   "name": "python",
   "nbconvert_exporter": "python",
   "pygments_lexer": "ipython3",
   "version": "3.9.18"
  }
 },
 "nbformat": 4,
 "nbformat_minor": 5
}
